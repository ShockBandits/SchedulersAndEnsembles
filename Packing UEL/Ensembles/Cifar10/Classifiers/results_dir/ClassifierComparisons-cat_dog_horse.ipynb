{
 "cells": [
  {
   "cell_type": "code",
   "execution_count": 1,
   "metadata": {},
   "outputs": [],
   "source": [
    "import os\n",
    "import pandas as pd\n",
    "import pickle\n"
   ]
  },
  {
   "cell_type": "code",
   "execution_count": 2,
   "metadata": {},
   "outputs": [
    {
     "data": {
      "text/plain": [
       "['SCNN_5_cat_dog_horse_25_25_50_db34_500.pkl',\n",
       " 'SCNN_5_cat_dog_horse_25_50_25_db12_500.pkl',\n",
       " 'SCNN_5_cat_dog_horse_333_334_333_db45_500.pkl',\n",
       " 'SCNN_5_cat_dog_horse_40_40_20_db51_500.pkl',\n",
       " 'SCNN_5_cat_dog_horse_45_45_10_db51_500.pkl',\n",
       " 'SCNN_5_cat_dog_horse_475_475_05_db51_500.pkl',\n",
       " 'SCNN_5_cat_dog_horse_50_25_25_db23_500.pkl']"
      ]
     },
     "execution_count": 2,
     "metadata": {},
     "output_type": "execute_result"
    }
   ],
   "source": [
    "pkl_files=sorted([x for x in os.listdir('.') if 'SCNN_5_' in x and '500.pkl' in x and '_db1_' not in x])\n",
    "pkl_files"
   ]
  },
  {
   "cell_type": "code",
   "execution_count": 3,
   "metadata": {},
   "outputs": [],
   "source": [
    "tr_dict = dict()\n",
    "te_dict = dict()\n",
    "cat_list = ['cat', 'dog','horse']"
   ]
  },
  {
   "cell_type": "code",
   "execution_count": 4,
   "metadata": {},
   "outputs": [],
   "source": [
    "for curr in pkl_files:\n",
    "    temp = pickle.load(open(curr,'r'))\n",
    "    key = curr[7:-8]\n",
    "    tr_dict[key] = [temp['train_conf_matrix'][x,x] for x in range(temp['train_conf_matrix'].shape[0])]\n",
    "    te_dict[key] = [temp['test_conf_matrix'][x,x] for x in range(temp['test_conf_matrix'].shape[0])]"
   ]
  },
  {
   "cell_type": "code",
   "execution_count": 5,
   "metadata": {},
   "outputs": [
    {
     "data": {
      "text/plain": [
       "{'cat_dog_horse_25_25_50_db34': [0.9878357830714648,\n",
       "  0.9361702127659575,\n",
       "  0.9969574036511156],\n",
       " 'cat_dog_horse_25_50_25_db12': [0.9896157840083074,\n",
       "  0.9761038961038961,\n",
       "  0.9875259875259875],\n",
       " 'cat_dog_horse_333_334_333_db45': [0.9535477284328739,\n",
       "  0.9638308711156394,\n",
       "  0.9943791517629024],\n",
       " 'cat_dog_horse_40_40_20_db51': [0.9811416921508664,\n",
       "  0.9551478083588175,\n",
       "  0.9796126401630989],\n",
       " 'cat_dog_horse_45_45_10_db51': [0.9592252803261978,\n",
       "  0.9806320081549439,\n",
       "  0.9908256880733946],\n",
       " 'cat_dog_horse_475_475_05_db51': [0.9867414584395716,\n",
       "  0.9551249362570118,\n",
       "  0.9855769230769231],\n",
       " 'cat_dog_horse_50_25_25_db23': [0.9909638554216867,\n",
       "  0.9718875502008032,\n",
       "  0.9889558232931727]}"
      ]
     },
     "execution_count": 5,
     "metadata": {},
     "output_type": "execute_result"
    }
   ],
   "source": [
    "tr_dict"
   ]
  },
  {
   "cell_type": "code",
   "execution_count": 6,
   "metadata": {},
   "outputs": [
    {
     "data": {
      "text/html": [
       "<div>\n",
       "<style scoped>\n",
       "    .dataframe tbody tr th:only-of-type {\n",
       "        vertical-align: middle;\n",
       "    }\n",
       "\n",
       "    .dataframe tbody tr th {\n",
       "        vertical-align: top;\n",
       "    }\n",
       "\n",
       "    .dataframe thead th {\n",
       "        text-align: right;\n",
       "    }\n",
       "</style>\n",
       "<table border=\"1\" class=\"dataframe\">\n",
       "  <thead>\n",
       "    <tr style=\"text-align: right;\">\n",
       "      <th></th>\n",
       "      <th>cat</th>\n",
       "      <th>dog</th>\n",
       "      <th>horse</th>\n",
       "    </tr>\n",
       "  </thead>\n",
       "  <tbody>\n",
       "    <tr>\n",
       "      <th>cat_dog_horse_25_25_50_db34</th>\n",
       "      <td>0.987836</td>\n",
       "      <td>0.936170</td>\n",
       "      <td>0.996957</td>\n",
       "    </tr>\n",
       "    <tr>\n",
       "      <th>cat_dog_horse_25_50_25_db12</th>\n",
       "      <td>0.989616</td>\n",
       "      <td>0.976104</td>\n",
       "      <td>0.987526</td>\n",
       "    </tr>\n",
       "    <tr>\n",
       "      <th>cat_dog_horse_333_334_333_db45</th>\n",
       "      <td>0.953548</td>\n",
       "      <td>0.963831</td>\n",
       "      <td>0.994379</td>\n",
       "    </tr>\n",
       "    <tr>\n",
       "      <th>cat_dog_horse_40_40_20_db51</th>\n",
       "      <td>0.981142</td>\n",
       "      <td>0.955148</td>\n",
       "      <td>0.979613</td>\n",
       "    </tr>\n",
       "    <tr>\n",
       "      <th>cat_dog_horse_45_45_10_db51</th>\n",
       "      <td>0.959225</td>\n",
       "      <td>0.980632</td>\n",
       "      <td>0.990826</td>\n",
       "    </tr>\n",
       "    <tr>\n",
       "      <th>cat_dog_horse_475_475_05_db51</th>\n",
       "      <td>0.986741</td>\n",
       "      <td>0.955125</td>\n",
       "      <td>0.985577</td>\n",
       "    </tr>\n",
       "    <tr>\n",
       "      <th>cat_dog_horse_50_25_25_db23</th>\n",
       "      <td>0.990964</td>\n",
       "      <td>0.971888</td>\n",
       "      <td>0.988956</td>\n",
       "    </tr>\n",
       "  </tbody>\n",
       "</table>\n",
       "</div>"
      ],
      "text/plain": [
       "                                     cat       dog     horse\n",
       "cat_dog_horse_25_25_50_db34     0.987836  0.936170  0.996957\n",
       "cat_dog_horse_25_50_25_db12     0.989616  0.976104  0.987526\n",
       "cat_dog_horse_333_334_333_db45  0.953548  0.963831  0.994379\n",
       "cat_dog_horse_40_40_20_db51     0.981142  0.955148  0.979613\n",
       "cat_dog_horse_45_45_10_db51     0.959225  0.980632  0.990826\n",
       "cat_dog_horse_475_475_05_db51   0.986741  0.955125  0.985577\n",
       "cat_dog_horse_50_25_25_db23     0.990964  0.971888  0.988956"
      ]
     },
     "execution_count": 6,
     "metadata": {},
     "output_type": "execute_result"
    }
   ],
   "source": [
    "train_df = pd.DataFrame.from_dict(tr_dict).T\n",
    "train_df.columns = cat_list\n",
    "train_df"
   ]
  },
  {
   "cell_type": "code",
   "execution_count": 7,
   "metadata": {},
   "outputs": [
    {
     "data": {
      "text/html": [
       "<div>\n",
       "<style scoped>\n",
       "    .dataframe tbody tr th:only-of-type {\n",
       "        vertical-align: middle;\n",
       "    }\n",
       "\n",
       "    .dataframe tbody tr th {\n",
       "        vertical-align: top;\n",
       "    }\n",
       "\n",
       "    .dataframe thead th {\n",
       "        text-align: right;\n",
       "    }\n",
       "</style>\n",
       "<table border=\"1\" class=\"dataframe\">\n",
       "  <thead>\n",
       "    <tr style=\"text-align: right;\">\n",
       "      <th></th>\n",
       "      <th>cat</th>\n",
       "      <th>dog</th>\n",
       "      <th>horse</th>\n",
       "    </tr>\n",
       "  </thead>\n",
       "  <tbody>\n",
       "    <tr>\n",
       "      <th>cat_dog_horse_25_25_50_db34</th>\n",
       "      <td>0.855</td>\n",
       "      <td>0.645</td>\n",
       "      <td>0.871</td>\n",
       "    </tr>\n",
       "    <tr>\n",
       "      <th>cat_dog_horse_25_50_25_db12</th>\n",
       "      <td>0.734</td>\n",
       "      <td>0.811</td>\n",
       "      <td>0.847</td>\n",
       "    </tr>\n",
       "    <tr>\n",
       "      <th>cat_dog_horse_333_334_333_db45</th>\n",
       "      <td>0.760</td>\n",
       "      <td>0.811</td>\n",
       "      <td>0.923</td>\n",
       "    </tr>\n",
       "    <tr>\n",
       "      <th>cat_dog_horse_40_40_20_db51</th>\n",
       "      <td>0.806</td>\n",
       "      <td>0.815</td>\n",
       "      <td>0.820</td>\n",
       "    </tr>\n",
       "    <tr>\n",
       "      <th>cat_dog_horse_45_45_10_db51</th>\n",
       "      <td>0.769</td>\n",
       "      <td>0.854</td>\n",
       "      <td>0.727</td>\n",
       "    </tr>\n",
       "    <tr>\n",
       "      <th>cat_dog_horse_475_475_05_db51</th>\n",
       "      <td>0.837</td>\n",
       "      <td>0.791</td>\n",
       "      <td>0.624</td>\n",
       "    </tr>\n",
       "    <tr>\n",
       "      <th>cat_dog_horse_50_25_25_db23</th>\n",
       "      <td>0.874</td>\n",
       "      <td>0.710</td>\n",
       "      <td>0.802</td>\n",
       "    </tr>\n",
       "  </tbody>\n",
       "</table>\n",
       "</div>"
      ],
      "text/plain": [
       "                                  cat    dog  horse\n",
       "cat_dog_horse_25_25_50_db34     0.855  0.645  0.871\n",
       "cat_dog_horse_25_50_25_db12     0.734  0.811  0.847\n",
       "cat_dog_horse_333_334_333_db45  0.760  0.811  0.923\n",
       "cat_dog_horse_40_40_20_db51     0.806  0.815  0.820\n",
       "cat_dog_horse_45_45_10_db51     0.769  0.854  0.727\n",
       "cat_dog_horse_475_475_05_db51   0.837  0.791  0.624\n",
       "cat_dog_horse_50_25_25_db23     0.874  0.710  0.802"
      ]
     },
     "execution_count": 7,
     "metadata": {},
     "output_type": "execute_result"
    }
   ],
   "source": [
    "test_df = pd.DataFrame.from_dict(te_dict).T\n",
    "test_df.columns = cat_list\n",
    "test_df"
   ]
  },
  {
   "cell_type": "code",
   "execution_count": 8,
   "metadata": {},
   "outputs": [],
   "source": [
    "acc_dict = dict()\n",
    "for curr in pkl_files:\n",
    "    temp = pickle.load(open(curr,'r'))\n",
    "    key = curr[7:-8]\n",
    "    acc_dict[key] = [temp['train_acc'][1], temp['test_acc'][1]]\n",
    "    \n"
   ]
  },
  {
   "cell_type": "code",
   "execution_count": 9,
   "metadata": {},
   "outputs": [
    {
     "data": {
      "text/html": [
       "<div>\n",
       "<style scoped>\n",
       "    .dataframe tbody tr th:only-of-type {\n",
       "        vertical-align: middle;\n",
       "    }\n",
       "\n",
       "    .dataframe tbody tr th {\n",
       "        vertical-align: top;\n",
       "    }\n",
       "\n",
       "    .dataframe thead th {\n",
       "        text-align: right;\n",
       "    }\n",
       "</style>\n",
       "<table border=\"1\" class=\"dataframe\">\n",
       "  <thead>\n",
       "    <tr style=\"text-align: right;\">\n",
       "      <th></th>\n",
       "      <th>Training</th>\n",
       "      <th>Testing</th>\n",
       "    </tr>\n",
       "  </thead>\n",
       "  <tbody>\n",
       "    <tr>\n",
       "      <th>cat_dog_horse_25_25_50_db34</th>\n",
       "      <td>0.977192</td>\n",
       "      <td>0.790333</td>\n",
       "    </tr>\n",
       "    <tr>\n",
       "      <th>cat_dog_horse_25_50_25_db12</th>\n",
       "      <td>0.982338</td>\n",
       "      <td>0.797333</td>\n",
       "    </tr>\n",
       "    <tr>\n",
       "      <th>cat_dog_horse_333_334_333_db45</th>\n",
       "      <td>0.970573</td>\n",
       "      <td>0.831333</td>\n",
       "    </tr>\n",
       "    <tr>\n",
       "      <th>cat_dog_horse_40_40_20_db51</th>\n",
       "      <td>0.970438</td>\n",
       "      <td>0.813667</td>\n",
       "    </tr>\n",
       "    <tr>\n",
       "      <th>cat_dog_horse_45_45_10_db51</th>\n",
       "      <td>0.972018</td>\n",
       "      <td>0.783333</td>\n",
       "    </tr>\n",
       "    <tr>\n",
       "      <th>cat_dog_horse_475_475_05_db51</th>\n",
       "      <td>0.971671</td>\n",
       "      <td>0.750667</td>\n",
       "    </tr>\n",
       "    <tr>\n",
       "      <th>cat_dog_horse_50_25_25_db23</th>\n",
       "      <td>0.985693</td>\n",
       "      <td>0.795333</td>\n",
       "    </tr>\n",
       "  </tbody>\n",
       "</table>\n",
       "</div>"
      ],
      "text/plain": [
       "                                Training   Testing\n",
       "cat_dog_horse_25_25_50_db34     0.977192  0.790333\n",
       "cat_dog_horse_25_50_25_db12     0.982338  0.797333\n",
       "cat_dog_horse_333_334_333_db45  0.970573  0.831333\n",
       "cat_dog_horse_40_40_20_db51     0.970438  0.813667\n",
       "cat_dog_horse_45_45_10_db51     0.972018  0.783333\n",
       "cat_dog_horse_475_475_05_db51   0.971671  0.750667\n",
       "cat_dog_horse_50_25_25_db23     0.985693  0.795333"
      ]
     },
     "execution_count": 9,
     "metadata": {},
     "output_type": "execute_result"
    }
   ],
   "source": [
    "acc_df = pd.DataFrame.from_dict(acc_dict,).T\n",
    "acc_df.columns=['Training', 'Testing']\n",
    "acc_df"
   ]
  },
  {
   "cell_type": "code",
   "execution_count": null,
   "metadata": {},
   "outputs": [],
   "source": []
  }
 ],
 "metadata": {
  "kernelspec": {
   "display_name": "Python 2",
   "language": "python",
   "name": "python2"
  },
  "language_info": {
   "codemirror_mode": {
    "name": "ipython",
    "version": 2
   },
   "file_extension": ".py",
   "mimetype": "text/x-python",
   "name": "python",
   "nbconvert_exporter": "python",
   "pygments_lexer": "ipython2",
   "version": "2.7.13"
  }
 },
 "nbformat": 4,
 "nbformat_minor": 2
}
